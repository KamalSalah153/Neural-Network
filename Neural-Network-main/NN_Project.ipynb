{
  "nbformat": 4,
  "nbformat_minor": 0,
  "metadata": {
    "colab": {
      "provenance": [],
      "mount_file_id": "1HbKf5azUWBMwia5_fshe-KiZeJFbwYhM",
      "authorship_tag": "ABX9TyOs7w1LsMi0vlv+W4OZDBh+",
      "include_colab_link": true
    },
    "kernelspec": {
      "name": "python3",
      "display_name": "Python 3"
    },
    "language_info": {
      "name": "python"
    }
  },
  "cells": [
    {
      "cell_type": "markdown",
      "metadata": {
        "id": "view-in-github",
        "colab_type": "text"
      },
      "source": [
        "<a href=\"https://colab.research.google.com/github/ahmedmabrouk24/Nueral-Network/blob/main/NN_Project.ipynb\" target=\"_parent\"><img src=\"https://colab.research.google.com/assets/colab-badge.svg\" alt=\"Open In Colab\"/></a>"
      ]
    },
    {
      "cell_type": "code",
      "execution_count": 1,
      "metadata": {
        "id": "7RXcFNfNFr-8"
      },
      "outputs": [],
      "source": [
        "from zipfile import ZipFile\n",
        "\n",
        "#with ZipFile('drive/MyDrive/NN Dataset.zip') as zipObj:\n",
        "\n",
        " # zipObj.extractall('drive/MyDrive/data')"
      ]
    },
    {
      "cell_type": "code",
      "source": [
        "pip install tflearn"
      ],
      "metadata": {
        "id": "k1FF4gl9NZyA",
        "colab": {
          "base_uri": "https://localhost:8080/"
        },
        "outputId": "01f3866b-fa41-4595-b211-059755250fe0"
      },
      "execution_count": 2,
      "outputs": [
        {
          "output_type": "stream",
          "name": "stdout",
          "text": [
            "Looking in indexes: https://pypi.org/simple, https://us-python.pkg.dev/colab-wheels/public/simple/\n",
            "Requirement already satisfied: tflearn in /usr/local/lib/python3.8/dist-packages (0.5.0)\n",
            "Requirement already satisfied: Pillow in /usr/local/lib/python3.8/dist-packages (from tflearn) (7.1.2)\n",
            "Requirement already satisfied: six in /usr/local/lib/python3.8/dist-packages (from tflearn) (1.15.0)\n",
            "Requirement already satisfied: numpy in /usr/local/lib/python3.8/dist-packages (from tflearn) (1.21.6)\n"
          ]
        }
      ]
    },
    {
      "cell_type": "code",
      "source": [
        "pip install imgaug"
      ],
      "metadata": {
        "id": "DxKesdpKeedr",
        "colab": {
          "base_uri": "https://localhost:8080/"
        },
        "outputId": "ef268319-9263-4b46-9ecb-77e59a102b4e"
      },
      "execution_count": 3,
      "outputs": [
        {
          "output_type": "stream",
          "name": "stdout",
          "text": [
            "Looking in indexes: https://pypi.org/simple, https://us-python.pkg.dev/colab-wheels/public/simple/\n",
            "Requirement already satisfied: imgaug in /usr/local/lib/python3.8/dist-packages (0.4.0)\n",
            "Requirement already satisfied: scikit-image>=0.14.2 in /usr/local/lib/python3.8/dist-packages (from imgaug) (0.18.3)\n",
            "Requirement already satisfied: Pillow in /usr/local/lib/python3.8/dist-packages (from imgaug) (7.1.2)\n",
            "Requirement already satisfied: matplotlib in /usr/local/lib/python3.8/dist-packages (from imgaug) (3.2.2)\n",
            "Requirement already satisfied: opencv-python in /usr/local/lib/python3.8/dist-packages (from imgaug) (4.6.0.66)\n",
            "Requirement already satisfied: scipy in /usr/local/lib/python3.8/dist-packages (from imgaug) (1.7.3)\n",
            "Requirement already satisfied: six in /usr/local/lib/python3.8/dist-packages (from imgaug) (1.15.0)\n",
            "Requirement already satisfied: numpy>=1.15 in /usr/local/lib/python3.8/dist-packages (from imgaug) (1.21.6)\n",
            "Requirement already satisfied: imageio in /usr/local/lib/python3.8/dist-packages (from imgaug) (2.9.0)\n",
            "Requirement already satisfied: Shapely in /usr/local/lib/python3.8/dist-packages (from imgaug) (1.8.5.post1)\n",
            "Requirement already satisfied: tifffile>=2019.7.26 in /usr/local/lib/python3.8/dist-packages (from scikit-image>=0.14.2->imgaug) (2022.10.10)\n",
            "Requirement already satisfied: PyWavelets>=1.1.1 in /usr/local/lib/python3.8/dist-packages (from scikit-image>=0.14.2->imgaug) (1.4.1)\n",
            "Requirement already satisfied: networkx>=2.0 in /usr/local/lib/python3.8/dist-packages (from scikit-image>=0.14.2->imgaug) (2.8.8)\n",
            "Requirement already satisfied: python-dateutil>=2.1 in /usr/local/lib/python3.8/dist-packages (from matplotlib->imgaug) (2.8.2)\n",
            "Requirement already satisfied: kiwisolver>=1.0.1 in /usr/local/lib/python3.8/dist-packages (from matplotlib->imgaug) (1.4.4)\n",
            "Requirement already satisfied: cycler>=0.10 in /usr/local/lib/python3.8/dist-packages (from matplotlib->imgaug) (0.11.0)\n",
            "Requirement already satisfied: pyparsing!=2.0.4,!=2.1.2,!=2.1.6,>=2.0.1 in /usr/local/lib/python3.8/dist-packages (from matplotlib->imgaug) (3.0.9)\n"
          ]
        }
      ]
    },
    {
      "cell_type": "code",
      "source": [
        "pip install ipyplot"
      ],
      "metadata": {
        "id": "yrqYA4G4egeq",
        "colab": {
          "base_uri": "https://localhost:8080/"
        },
        "outputId": "fa4d45b1-29a6-4b95-a8d7-bba1d787cebf"
      },
      "execution_count": 4,
      "outputs": [
        {
          "output_type": "stream",
          "name": "stdout",
          "text": [
            "Looking in indexes: https://pypi.org/simple, https://us-python.pkg.dev/colab-wheels/public/simple/\n",
            "Requirement already satisfied: ipyplot in /usr/local/lib/python3.8/dist-packages (1.1.1)\n",
            "Requirement already satisfied: shortuuid in /usr/local/lib/python3.8/dist-packages (from ipyplot) (1.0.11)\n",
            "Requirement already satisfied: pillow in /usr/local/lib/python3.8/dist-packages (from ipyplot) (7.1.2)\n",
            "Requirement already satisfied: IPython in /usr/local/lib/python3.8/dist-packages (from ipyplot) (7.9.0)\n",
            "Requirement already satisfied: numpy in /usr/local/lib/python3.8/dist-packages (from ipyplot) (1.21.6)\n",
            "Requirement already satisfied: pexpect in /usr/local/lib/python3.8/dist-packages (from IPython->ipyplot) (4.8.0)\n",
            "Requirement already satisfied: pickleshare in /usr/local/lib/python3.8/dist-packages (from IPython->ipyplot) (0.7.5)\n",
            "Requirement already satisfied: backcall in /usr/local/lib/python3.8/dist-packages (from IPython->ipyplot) (0.2.0)\n",
            "Requirement already satisfied: jedi>=0.10 in /usr/local/lib/python3.8/dist-packages (from IPython->ipyplot) (0.18.2)\n",
            "Requirement already satisfied: decorator in /usr/local/lib/python3.8/dist-packages (from IPython->ipyplot) (4.4.2)\n",
            "Requirement already satisfied: setuptools>=18.5 in /usr/local/lib/python3.8/dist-packages (from IPython->ipyplot) (57.4.0)\n",
            "Requirement already satisfied: traitlets>=4.2 in /usr/local/lib/python3.8/dist-packages (from IPython->ipyplot) (5.6.0)\n",
            "Requirement already satisfied: prompt-toolkit<2.1.0,>=2.0.0 in /usr/local/lib/python3.8/dist-packages (from IPython->ipyplot) (2.0.10)\n",
            "Requirement already satisfied: pygments in /usr/local/lib/python3.8/dist-packages (from IPython->ipyplot) (2.6.1)\n",
            "Requirement already satisfied: parso<0.9.0,>=0.8.0 in /usr/local/lib/python3.8/dist-packages (from jedi>=0.10->IPython->ipyplot) (0.8.3)\n",
            "Requirement already satisfied: wcwidth in /usr/local/lib/python3.8/dist-packages (from prompt-toolkit<2.1.0,>=2.0.0->IPython->ipyplot) (0.2.5)\n",
            "Requirement already satisfied: six>=1.9.0 in /usr/local/lib/python3.8/dist-packages (from prompt-toolkit<2.1.0,>=2.0.0->IPython->ipyplot) (1.15.0)\n",
            "Requirement already satisfied: ptyprocess>=0.5 in /usr/local/lib/python3.8/dist-packages (from pexpect->IPython->ipyplot) (0.7.0)\n"
          ]
        }
      ]
    },
    {
      "cell_type": "code",
      "source": [
        "from random import shuffle\n",
        "from tqdm import tqdm\n",
        "import tensorflow as tf\n",
        "import tensorflow_datasets as tfds\n",
        "import matplotlib.pyplot as plt\n",
        "import numpy as np\n",
        "import tflearn\n",
        "from tflearn.layers.conv import conv_2d, max_pool_2d\n",
        "from tflearn.layers.core import input_data, dropout, fully_connected\n",
        "from tflearn.layers.estimator import regression\n",
        "import tensorflow as tf\n",
        "import cv2\n",
        "import random\n",
        "import numpy as np\n",
        "from PIL import Image\n",
        "import os\n",
        "import matplotlib.pyplot as plt\n",
        "import imageio\n",
        "import imgaug as ia\n",
        "import imgaug.augmenters as iaa\n",
        "import ipyplot"
      ],
      "metadata": {
        "id": "PCHS8CasNddN",
        "colab": {
          "base_uri": "https://localhost:8080/"
        },
        "outputId": "2f25c890-fc13-4c79-a1f1-5865c38fe228"
      },
      "execution_count": 5,
      "outputs": [
        {
          "output_type": "stream",
          "name": "stderr",
          "text": [
            "WARNING:tensorflow:From /usr/local/lib/python3.8/dist-packages/tensorflow/python/compat/v2_compat.py:107: disable_resource_variables (from tensorflow.python.ops.variable_scope) is deprecated and will be removed in a future version.\n",
            "Instructions for updating:\n",
            "non-resource variables are not supported in the long term\n"
          ]
        },
        {
          "output_type": "stream",
          "name": "stdout",
          "text": [
            "\n",
            "        WARNING! Google Colab Environment detected!\n",
            "        You might encounter issues while running in Google Colab environment.\n",
            "        If images are not displaying properly please try setting `force_b64` param to `True`.\n",
            "        \n"
          ]
        }
      ]
    },
    {
      "cell_type": "code",
      "source": [
        "def convert_all_image_to_jpg():\n",
        "    for img in tqdm(os.listdir(TRAIN_DIR)):\n",
        "        x = img.split(\".\")\n",
        "        path = 'drive/MyDrive/data/Train/' + img\n",
        "        name = 'drive/MyDrive/data/Train/' + x[0]\n",
        "        im = Image.open(path)\n",
        "        im.convert('RGB').save(name + \".jpg\")\n",
        "        if (x[1] != 'jpg'):\n",
        "             os.remove(path) \n",
        "\n"
      ],
      "metadata": {
        "id": "0kP7GOuylJM9"
      },
      "execution_count": 6,
      "outputs": []
    },
    {
      "cell_type": "code",
      "source": [
        "TRAIN_DIR = 'drive/MyDrive/data/Train'\n",
        "TEST_DIR = 'drive/MyDrive/data/Test'\n",
        "train_images=[]\n",
        "test_images=[]\n",
        "IMG_SIZE = 50\n",
        "num_classes = 6\n",
        "MODEL_NAME = 'sports_classification-cnn'"
      ],
      "metadata": {
        "id": "LSHaBH4xNi9e"
      },
      "execution_count": 7,
      "outputs": []
    },
    {
      "cell_type": "code",
      "source": [
        "def augmentation(input_img):\n",
        "\n",
        "    list_data = []\n",
        "\n",
        "    #Horizontal Flip\n",
        "    hflip= iaa.Fliplr(p=1.0)\n",
        "    input_hf= hflip.augment_image(input_img) \n",
        "    list_data.append(input_hf)\n",
        "\n",
        "    #Crop\n",
        "    crop1 = iaa.Crop(percent=(0, 0.38)) \n",
        "    input_crop1 = crop1.augment_image(input_img)\n",
        "    list_data.append(input_crop1)\n",
        "\n",
        "    #shearing (random rotate)\n",
        "    rot1 = iaa.Affine(rotate=(-70,20))\n",
        "    input_rot1 = rot1.augment_image(input_img)\n",
        "    list_data.append(input_rot1)\n",
        "\n",
        "    rot2 = iaa.Affine(rotate=(70,20))\n",
        "    input_rot2 = rot2.augment_image(input_img)\n",
        "    list_data.append(input_rot2)\n",
        "\n",
        "    #noise\n",
        "    noise=iaa.AdditiveGaussianNoise(10,40)\n",
        "    input_noise=noise.augment_image(input_img)\n",
        "    list_data.append(input_noise)\n",
        "\n",
        "    #elistic\n",
        "    elastic = iaa.ElasticTransformation(alpha=2.0, sigma=0.5)\n",
        "    input_elastic = elastic.augment_image(input_img)\n",
        "    list_data.append(input_elastic)\n",
        "  \n",
        "    return list_data"
      ],
      "metadata": {
        "id": "45ESnWHaOgCf"
      },
      "execution_count": 8,
      "outputs": []
    },
    {
      "cell_type": "code",
      "source": [
        "    \n",
        "def create_label(image_name):\n",
        "    word_label = image_name[0:4]\n",
        "    if word_label == 'Bask':\n",
        "        return np.array([1,0,0,0,0,0])\n",
        "    elif word_label == 'Foot':\n",
        "        return np.array([0,1,0,0,0,0])\n",
        "    elif word_label == 'Rowi':\n",
        "        return np.array([0,0,1,0,0,0])\n",
        "    elif word_label == 'Swim':\n",
        "        return np.array([0,0,0,1,0,0])\n",
        "    elif word_label == 'Tenn':\n",
        "        return np.array([0,0,0,0,1,0])\n",
        "    elif word_label == 'Yoga':\n",
        "        return np.array([0,0,0,0,0,1])   "
      ],
      "metadata": {
        "id": "rJa__978cvVZ"
      },
      "execution_count": 9,
      "outputs": []
    },
    {
      "cell_type": "code",
      "source": [
        "def create_train_data():\n",
        "\n",
        "    training_data = []\n",
        "\n",
        "    for img in tqdm(os.listdir(TRAIN_DIR)):\n",
        "        path = os.path.join(TRAIN_DIR, img)\n",
        "        img_data = cv2.imread(path,0)\n",
        "        img_data = cv2.resize(img_data, (IMG_SIZE, IMG_SIZE))\n",
        "        \n",
        "        label_list = create_label(img)\n",
        "        training_data.append([np.array(img_data), label_list])\n",
        "\n",
        "        #append augmentation to train data\n",
        "        aug_list = augmentation(img_data);\n",
        "        for aug in aug_list:\n",
        "            training_data.append([np.array(aug), label_list])\n",
        "    shuffle(training_data)\n",
        "    np.save('train_data.npy', training_data)\n",
        "    return training_data"
      ],
      "metadata": {
        "id": "eLroFlz6NpsG"
      },
      "execution_count": 10,
      "outputs": []
    },
    {
      "cell_type": "code",
      "source": [
        "if (os.path.exists('train_data.npy')):\n",
        "    all_images = np.load('train_data.npy',allow_pickle=True)\n",
        "else: \n",
        "    all_images = create_train_data()\n",
        "\n",
        "for i in range(0 , 10000):\n",
        "  train_images.append(all_images[i]);\n",
        "\n",
        "for i in range(10000 , len(all_images)):\n",
        "  test_images.append(all_images[i]);\n",
        "\n",
        "X_train = np.array([i[0] for i in train_images]).reshape(-1, IMG_SIZE, IMG_SIZE, 1)\n",
        "y_train = [i[1] for i in train_images]\n",
        "X_test = np.array([i[0] for i in test_images]).reshape(-1, IMG_SIZE, IMG_SIZE, 1)\n",
        "y_test = [i[1] for i in test_images]"
      ],
      "metadata": {
        "id": "qWlKexTSnYcY",
        "colab": {
          "base_uri": "https://localhost:8080/"
        },
        "outputId": "9b620026-6dae-447f-904e-6e87a6baf69b"
      },
      "execution_count": 11,
      "outputs": [
        {
          "output_type": "stream",
          "name": "stderr",
          "text": [
            "100%|██████████| 1681/1681 [00:29<00:00, 56.45it/s]\n",
            "/usr/local/lib/python3.8/dist-packages/numpy/lib/npyio.py:528: VisibleDeprecationWarning: Creating an ndarray from ragged nested sequences (which is a list-or-tuple of lists-or-tuples-or ndarrays with different lengths or shapes) is deprecated. If you meant to do this, you must specify 'dtype=object' when creating the ndarray.\n",
            "  arr = np.asanyarray(arr)\n"
          ]
        }
      ]
    },
    {
      "cell_type": "code",
      "source": [
        "conv_input = input_data(shape=[None, IMG_SIZE, IMG_SIZE, 1], name='input')\n",
        "conv1 = conv_2d(conv_input, 16, 5, activation='relu')\n",
        "pool1 = max_pool_2d(conv1, 5)\n",
        "\n",
        "conv2 = conv_2d(pool1, 32, 5, activation='relu')\n",
        "pool2 = max_pool_2d(conv2, 5)\n",
        "\n",
        "conv3 = conv_2d(pool2, 32, 5, activation='relu')\n",
        "pool3 = max_pool_2d(conv3, 5)\n",
        "\n",
        "conv4 = conv_2d(pool3, 32, 5, activation='relu')\n",
        "pool4 = max_pool_2d(conv4, 5)\n",
        "\n",
        "conv5 = conv_2d(pool4, 16, 5, activation='relu')\n",
        "pool5 = max_pool_2d(conv5, 5)\n",
        "\n",
        "fully_layer = fully_connected(pool5, 1024, activation='relu')\n",
        "fully_layer = dropout(fully_layer, 0.5)\n",
        "\n",
        "cnn_layers = fully_connected(fully_layer, 6, activation='softmax')\n",
        "\n",
        "cnn_layers = regression(cnn_layers, optimizer='adam', learning_rate=0.01, loss='categorical_crossentropy', name='targets')\n",
        "model = tflearn.DNN(cnn_layers, tensorboard_dir='log', tensorboard_verbose=3)\n",
        "print (X_train.shape)\n",
        "\n",
        "if (os.path.exists('model.tfl.meta')):\n",
        "    model.load('./model.tfl')\n",
        "else:\n",
        "    model.fit({'input': X_train}, {'targets': y_train}, n_epoch=10,\n",
        "          validation_set=({'input': X_test}, {'targets': y_test}),\n",
        "          snapshot_step=500, show_metric=True, run_id=MODEL_NAME)\n",
        "    model.save('model.tfl')"
      ],
      "metadata": {
        "id": "-Pj39vrVn9hd",
        "colab": {
          "base_uri": "https://localhost:8080/"
        },
        "outputId": "8073b316-9b63-4015-9572-ee4427eaeffb"
      },
      "execution_count": 12,
      "outputs": [
        {
          "output_type": "stream",
          "name": "stdout",
          "text": [
            "Training Step: 1569  | total loss: \u001b[1m\u001b[32m1.28032\u001b[0m\u001b[0m | time: 39.613s\n",
            "| Adam | epoch: 010 | loss: 1.28032 - acc: 0.4802 -- iter: 09984/10000\n",
            "Training Step: 1570  | total loss: \u001b[1m\u001b[32m1.28342\u001b[0m\u001b[0m | time: 40.875s\n",
            "| Adam | epoch: 010 | loss: 1.28342 - acc: 0.4743 | val_loss: 1.27551 - val_acc: 0.4992 -- iter: 10000/10000\n",
            "--\n"
          ]
        }
      ]
    }
  ]
}